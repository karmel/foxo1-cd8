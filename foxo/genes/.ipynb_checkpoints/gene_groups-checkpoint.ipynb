{
 "metadata": {
  "name": "",
  "signature": "sha256:a550011e1de82fc6c94880e4757a21d942c7748ee8e6500475c196dd999ac703"
 },
 "nbformat": 3,
 "nbformat_minor": 0,
 "worksheets": [
  {
   "cells": [
    {
     "cell_type": "code",
     "collapsed": false,
     "input": [
      "'''\n",
      "Generate lists of genes for GO Analysis and the like.\n",
      "'''"
     ],
     "language": "python",
     "metadata": {},
     "outputs": [
      {
       "metadata": {},
       "output_type": "pyout",
       "prompt_number": 1,
       "text": [
        "'\\nGenerate lists of genes for GO Analysis and the like.\\n'"
       ]
      }
     ],
     "prompt_number": 1
    },
    {
     "cell_type": "code",
     "collapsed": false,
     "input": [
      "import pandas as pd"
     ],
     "language": "python",
     "metadata": {},
     "outputs": [],
     "prompt_number": 2
    },
    {
     "cell_type": "code",
     "collapsed": false,
     "input": [
      "filename = '../data/diffExp.output.txt'\n",
      "data = pd.io.parsers.read_csv(filename, \n",
      "                                    sep='\\t', \n",
      "                                    header=0)\n",
      "data.columns"
     ],
     "language": "python",
     "metadata": {},
     "outputs": [
      {
       "metadata": {},
       "output_type": "pyout",
       "prompt_number": 4,
       "text": [
        "Index(['Transcript/RepeatID (cmd=analyzeRepeats.pl rna mm10 -strand both -count exons -d CD8TCell-KLRGhi-RNA-LCMV-12d-KAA-14-10-31 CD8TCell-KLRGhi-RNA-LCMV-7d-KAA-14-10-31 CD8TCell-KLRGlo-RNA-LCMV-12d-KAA-14-10-31 CD8TCell-KLRGlo-RNA-LCMV-7d-KAA-14-10-31 CD8TCell-RNA-LCMV-0d-KAA-14-10-31 CD8TCell-RNA-LCMV-35d-rep1-KAA-14-10-31 CD8TCell-RNA-LCMV-35d-rep2-KAA-14-10-31 Foxo1-KO-CD8TCell-KLRGhi-RNA-LCMV-12d-KAA-14-10-31 Foxo1-KO-CD8TCell-KLRGhi-RNA-LCMV-7d-KAA-14-10-31 Foxo1-KO-CD8TCell-KLRGlo-RNA-LCMV-7d-KAA-14-10-31 Foxo1-KO-CD8TCell-RNA-LCMV-0d-KAA-14-10-31 -noadj -condenseGenes) (cmd=getDiffExpression.pl tag_counts.txt KLRGhi-LCMV-12d KLRGhi-LCMV-7d KLRGlo-LCMV-12d KLRGlo-LCMV-7d RNA-LCMV-0d RNA-LCMV-35d-rep1 RNA-LCMV-35d-rep2 Foxo1-KO-KLRGhi-LCMV-12d Foxo1-KO-KLRGhi-LCMV-7d Foxo1-KO-KLRGlo-LCMV-7d Foxo1-KO-LCMV-0d)', 'chr', 'start', 'end', 'strand', 'Length', 'Copies', 'Annotation/Divergence', 'CD8TCell-KLRGhi-RNA-LCMV-12d-KAA-14-10-31 reads', 'CD8TCell-KLRGhi-RNA-LCMV-7d-KAA-14-10-31 reads', 'CD8TCell-KLRGlo-RNA-LCMV-12d-KAA-14-10-31 reads', 'CD8TCell-KLRGlo-RNA-LCMV-7d-KAA-14-10-31 reads', 'CD8TCell-RNA-LCMV-0d-KAA-14-10-31 reads', 'CD8TCell-RNA-LCMV-35d-rep1-KAA-14-10-31 reads', 'CD8TCell-RNA-LCMV-35d-rep2-KAA-14-10-31 reads', 'Foxo1-KO-CD8TCell-KLRGhi-RNA-LCMV-12d-KAA-14-10-31 reads', 'Foxo1-KO-CD8TCell-KLRGhi-RNA-LCMV-7d-KAA-14-10-31 reads', 'Foxo1-KO-CD8TCell-KLRGlo-RNA-LCMV-7d-KAA-14-10-31 reads', 'Foxo1-KO-CD8TCell-RNA-LCMV-0d-KAA-14-10-31 reads', 'KLRGhi-LCMV-12d vs. KLRGhi-LCMV-7d logFC', 'KLRGhi-LCMV-12d vs. KLRGhi-LCMV-7d logCPM', 'KLRGhi-LCMV-12d vs. KLRGhi-LCMV-7d PValue', 'KLRGhi-LCMV-12d vs. KLRGhi-LCMV-7d FDR', 'KLRGhi-LCMV-12d vs. KLRGlo-LCMV-12d logFC', 'KLRGhi-LCMV-12d vs. KLRGlo-LCMV-12d logCPM', 'KLRGhi-LCMV-12d vs. KLRGlo-LCMV-12d PValue', 'KLRGhi-LCMV-12d vs. KLRGlo-LCMV-12d FDR', 'KLRGhi-LCMV-12d vs. KLRGlo-LCMV-7d logFC', 'KLRGhi-LCMV-12d vs. KLRGlo-LCMV-7d logCPM', 'KLRGhi-LCMV-12d vs. KLRGlo-LCMV-7d PValue', 'KLRGhi-LCMV-12d vs. KLRGlo-LCMV-7d FDR', 'KLRGhi-LCMV-12d vs. RNA-LCMV-0d logFC', 'KLRGhi-LCMV-12d vs. RNA-LCMV-0d logCPM', 'KLRGhi-LCMV-12d vs. RNA-LCMV-0d PValue', 'KLRGhi-LCMV-12d vs. RNA-LCMV-0d FDR', 'KLRGhi-LCMV-12d vs. RNA-LCMV-35d-rep1 logFC', 'KLRGhi-LCMV-12d vs. RNA-LCMV-35d-rep1 logCPM', 'KLRGhi-LCMV-12d vs. RNA-LCMV-35d-rep1 PValue', 'KLRGhi-LCMV-12d vs. RNA-LCMV-35d-rep1 FDR', 'KLRGhi-LCMV-12d vs. RNA-LCMV-35d-rep2 logFC', 'KLRGhi-LCMV-12d vs. RNA-LCMV-35d-rep2 logCPM', 'KLRGhi-LCMV-12d vs. RNA-LCMV-35d-rep2 PValue', 'KLRGhi-LCMV-12d vs. RNA-LCMV-35d-rep2 FDR', 'KLRGhi-LCMV-12d vs. Foxo1-KO-KLRGhi-LCMV-12d logFC', 'KLRGhi-LCMV-12d vs. Foxo1-KO-KLRGhi-LCMV-12d logCPM', 'KLRGhi-LCMV-12d vs. Foxo1-KO-KLRGhi-LCMV-12d PValue', 'KLRGhi-LCMV-12d vs. Foxo1-KO-KLRGhi-LCMV-12d FDR', 'KLRGhi-LCMV-12d vs. Foxo1-KO-KLRGhi-LCMV-7d logFC', 'KLRGhi-LCMV-12d vs. Foxo1-KO-KLRGhi-LCMV-7d logCPM', 'KLRGhi-LCMV-12d vs. Foxo1-KO-KLRGhi-LCMV-7d PValue', 'KLRGhi-LCMV-12d vs. Foxo1-KO-KLRGhi-LCMV-7d FDR', 'KLRGhi-LCMV-12d vs. Foxo1-KO-KLRGlo-LCMV-7d logFC', 'KLRGhi-LCMV-12d vs. Foxo1-KO-KLRGlo-LCMV-7d logCPM', 'KLRGhi-LCMV-12d vs. Foxo1-KO-KLRGlo-LCMV-7d PValue', 'KLRGhi-LCMV-12d vs. Foxo1-KO-KLRGlo-LCMV-7d FDR', 'KLRGhi-LCMV-12d vs. Foxo1-KO-LCMV-0d logFC', 'KLRGhi-LCMV-12d vs. Foxo1-KO-LCMV-0d logCPM', 'KLRGhi-LCMV-12d vs. Foxo1-KO-LCMV-0d PValue', 'KLRGhi-LCMV-12d vs. Foxo1-KO-LCMV-0d FDR', 'KLRGhi-LCMV-7d vs. KLRGlo-LCMV-12d logFC', 'KLRGhi-LCMV-7d vs. KLRGlo-LCMV-12d logCPM', 'KLRGhi-LCMV-7d vs. KLRGlo-LCMV-12d PValue', 'KLRGhi-LCMV-7d vs. KLRGlo-LCMV-12d FDR', 'KLRGhi-LCMV-7d vs. KLRGlo-LCMV-7d logFC', 'KLRGhi-LCMV-7d vs. KLRGlo-LCMV-7d logCPM', 'KLRGhi-LCMV-7d vs. KLRGlo-LCMV-7d PValue', 'KLRGhi-LCMV-7d vs. KLRGlo-LCMV-7d FDR', 'KLRGhi-LCMV-7d vs. RNA-LCMV-0d logFC', 'KLRGhi-LCMV-7d vs. RNA-LCMV-0d logCPM', 'KLRGhi-LCMV-7d vs. RNA-LCMV-0d PValue', 'KLRGhi-LCMV-7d vs. RNA-LCMV-0d FDR', 'KLRGhi-LCMV-7d vs. RNA-LCMV-35d-rep1 logFC', 'KLRGhi-LCMV-7d vs. RNA-LCMV-35d-rep1 logCPM', 'KLRGhi-LCMV-7d vs. RNA-LCMV-35d-rep1 PValue', 'KLRGhi-LCMV-7d vs. RNA-LCMV-35d-rep1 FDR', 'KLRGhi-LCMV-7d vs. RNA-LCMV-35d-rep2 logFC', 'KLRGhi-LCMV-7d vs. RNA-LCMV-35d-rep2 logCPM', 'KLRGhi-LCMV-7d vs. RNA-LCMV-35d-rep2 PValue', 'KLRGhi-LCMV-7d vs. RNA-LCMV-35d-rep2 FDR', 'KLRGhi-LCMV-7d vs. Foxo1-KO-KLRGhi-LCMV-12d logFC', 'KLRGhi-LCMV-7d vs. Foxo1-KO-KLRGhi-LCMV-12d logCPM', 'KLRGhi-LCMV-7d vs. Foxo1-KO-KLRGhi-LCMV-12d PValue', 'KLRGhi-LCMV-7d vs. Foxo1-KO-KLRGhi-LCMV-12d FDR', 'KLRGhi-LCMV-7d vs. Foxo1-KO-KLRGhi-LCMV-7d logFC', 'KLRGhi-LCMV-7d vs. Foxo1-KO-KLRGhi-LCMV-7d logCPM', 'KLRGhi-LCMV-7d vs. Foxo1-KO-KLRGhi-LCMV-7d PValue', 'KLRGhi-LCMV-7d vs. Foxo1-KO-KLRGhi-LCMV-7d FDR', 'KLRGhi-LCMV-7d vs. Foxo1-KO-KLRGlo-LCMV-7d logFC', 'KLRGhi-LCMV-7d vs. Foxo1-KO-KLRGlo-LCMV-7d logCPM', 'KLRGhi-LCMV-7d vs. Foxo1-KO-KLRGlo-LCMV-7d PValue', 'KLRGhi-LCMV-7d vs. Foxo1-KO-KLRGlo-LCMV-7d FDR', 'KLRGhi-LCMV-7d vs. Foxo1-KO-LCMV-0d logFC', 'KLRGhi-LCMV-7d vs. Foxo1-KO-LCMV-0d logCPM', 'KLRGhi-LCMV-7d vs. Foxo1-KO-LCMV-0d PValue', 'KLRGhi-LCMV-7d vs. Foxo1-KO-LCMV-0d FDR', 'KLRGlo-LCMV-12d vs. KLRGlo-LCMV-7d logFC', 'KLRGlo-LCMV-12d vs. KLRGlo-LCMV-7d logCPM', 'KLRGlo-LCMV-12d vs. KLRGlo-LCMV-7d PValue', 'KLRGlo-LCMV-12d vs. KLRGlo-LCMV-7d FDR', 'KLRGlo-LCMV-12d vs. RNA-LCMV-0d logFC', ...], dtype='object')"
       ]
      }
     ],
     "prompt_number": 4
    },
    {
     "cell_type": "code",
     "collapsed": false,
     "input": [
      "# Set up some rules.\n",
      "max_fdr = 0.01\n",
      "min_logfc = 1\n",
      "min_logcpm = 1"
     ],
     "language": "python",
     "metadata": {},
     "outputs": [],
     "prompt_number": 11
    },
    {
     "cell_type": "code",
     "collapsed": false,
     "input": [
      "def output_up_down(data, vs):\n",
      "    up = data[(data[vs + 'FDR'] <= max_fdr) &\n",
      "            (data[vs + 'logCPM'] >= min_logcpm) &\n",
      "            (data[vs + 'logFC'] >= min_logfc)]\n",
      "    up = up.sort(columns=[vs + 'logFC'], ascending=False)\n",
      "    up_genes = up[[up.columns[0],'Annotation/Divergence',\n",
      "                   vs + 'logFC', vs + 'FDR', vs + 'logCPM']]\n",
      "\n",
      "    down = data[(data[vs + 'FDR'] <= max_fdr) &\n",
      "                (data[vs + 'logCPM'] >= min_logcpm) &\n",
      "                (data[vs + 'logFC'] <= -min_logfc)]\n",
      "    down = down.sort(columns=[vs + 'logFC'], ascending=True)\n",
      "    down_genes = down[[down.columns[0],'Annotation/Divergence',\n",
      "                   vs + 'logFC', vs + 'FDR', vs + 'logCPM']]\n",
      "\n",
      "    filename = vs.replace(' ', '_').replace('.','')\n",
      "    up_genes.to_csv('gene_lists/{}up.txt'.format(filename), \n",
      "                    sep='\\t', header=True, index=False)\n",
      "    down_genes.to_csv('gene_lists/{}down.txt'.format(filename),\n",
      "                      sep='\\t', header=True, index=False)"
     ],
     "language": "python",
     "metadata": {},
     "outputs": [],
     "prompt_number": 44
    },
    {
     "cell_type": "code",
     "collapsed": false,
     "input": [
      "# Foxo1 groups first.\n",
      "vs = 'RNA-LCMV-0d vs. Foxo1-KO-LCMV-0d '\n",
      "output_up_down(data, vs)\n",
      "vs = 'KLRGhi-LCMV-7d vs. Foxo1-KO-KLRGhi-LCMV-7d '\n",
      "output_up_down(data, vs)\n",
      "vs = 'KLRGlo-LCMV-7d vs. Foxo1-KO-KLRGlo-LCMV-7d '\n",
      "output_up_down(data, vs)\n",
      "vs = 'KLRGhi-LCMV-12d vs. Foxo1-KO-KLRGhi-LCMV-12d '\n",
      "output_up_down(data, vs)"
     ],
     "language": "python",
     "metadata": {},
     "outputs": [
      {
       "ename": "NameError",
       "evalue": "name 'min_logcpm' is not defined",
       "output_type": "pyerr",
       "traceback": [
        "\u001b[0;31m---------------------------------------------------------------------------\u001b[0m\n\u001b[0;31mNameError\u001b[0m                                 Traceback (most recent call last)",
        "\u001b[0;32m<ipython-input-45-298d9da0d02d>\u001b[0m in \u001b[0;36m<module>\u001b[0;34m()\u001b[0m\n\u001b[1;32m      1\u001b[0m \u001b[0;31m# Foxo1 groups first.\u001b[0m\u001b[0;34m\u001b[0m\u001b[0;34m\u001b[0m\u001b[0m\n\u001b[1;32m      2\u001b[0m \u001b[0mvs\u001b[0m \u001b[0;34m=\u001b[0m \u001b[0;34m'RNA-LCMV-0d vs. Foxo1-KO-LCMV-0d '\u001b[0m\u001b[0;34m\u001b[0m\u001b[0m\n\u001b[0;32m----> 3\u001b[0;31m \u001b[0moutput_up_down\u001b[0m\u001b[0;34m(\u001b[0m\u001b[0mdata\u001b[0m\u001b[0;34m,\u001b[0m \u001b[0mvs\u001b[0m\u001b[0;34m)\u001b[0m\u001b[0;34m\u001b[0m\u001b[0m\n\u001b[0m\u001b[1;32m      4\u001b[0m \u001b[0mvs\u001b[0m \u001b[0;34m=\u001b[0m \u001b[0;34m'KLRGhi-LCMV-7d vs. Foxo1-KO-KLRGhi-LCMV-7d '\u001b[0m\u001b[0;34m\u001b[0m\u001b[0m\n\u001b[1;32m      5\u001b[0m \u001b[0moutput_up_down\u001b[0m\u001b[0;34m(\u001b[0m\u001b[0mdata\u001b[0m\u001b[0;34m,\u001b[0m \u001b[0mvs\u001b[0m\u001b[0;34m)\u001b[0m\u001b[0;34m\u001b[0m\u001b[0m\n",
        "\u001b[0;32m<ipython-input-44-f3a92d2018ff>\u001b[0m in \u001b[0;36moutput_up_down\u001b[0;34m(data, vs)\u001b[0m\n\u001b[1;32m      1\u001b[0m \u001b[0;32mdef\u001b[0m \u001b[0moutput_up_down\u001b[0m\u001b[0;34m(\u001b[0m\u001b[0mdata\u001b[0m\u001b[0;34m,\u001b[0m \u001b[0mvs\u001b[0m\u001b[0;34m)\u001b[0m\u001b[0;34m:\u001b[0m\u001b[0;34m\u001b[0m\u001b[0m\n\u001b[1;32m      2\u001b[0m     up = data[(data[vs + 'FDR'] <= max_fdr) &\n\u001b[0;32m----> 3\u001b[0;31m             \u001b[0;34m(\u001b[0m\u001b[0mdata\u001b[0m\u001b[0;34m[\u001b[0m\u001b[0mvs\u001b[0m \u001b[0;34m+\u001b[0m \u001b[0;34m'logCPM'\u001b[0m\u001b[0;34m]\u001b[0m \u001b[0;34m>=\u001b[0m \u001b[0mmin_logcpm\u001b[0m\u001b[0;34m)\u001b[0m \u001b[0;34m&\u001b[0m\u001b[0;34m\u001b[0m\u001b[0m\n\u001b[0m\u001b[1;32m      4\u001b[0m             (data[vs + 'logFC'] >= min_logfc)]\n\u001b[1;32m      5\u001b[0m     \u001b[0mup\u001b[0m \u001b[0;34m=\u001b[0m \u001b[0mup\u001b[0m\u001b[0;34m.\u001b[0m\u001b[0msort\u001b[0m\u001b[0;34m(\u001b[0m\u001b[0mcolumns\u001b[0m\u001b[0;34m=\u001b[0m\u001b[0;34m[\u001b[0m\u001b[0mvs\u001b[0m \u001b[0;34m+\u001b[0m \u001b[0;34m'logFC'\u001b[0m\u001b[0;34m]\u001b[0m\u001b[0;34m,\u001b[0m \u001b[0mascending\u001b[0m\u001b[0;34m=\u001b[0m\u001b[0;32mFalse\u001b[0m\u001b[0;34m)\u001b[0m\u001b[0;34m\u001b[0m\u001b[0m\n",
        "\u001b[0;31mNameError\u001b[0m: name 'min_logcpm' is not defined"
       ]
      }
     ],
     "prompt_number": 45
    },
    {
     "cell_type": "code",
     "collapsed": false,
     "input": [
      "# Hi vs. Lo\n",
      "vs = 'KLRGhi-LCMV-7d vs. KLRGlo-LCMV-7d '\n",
      "output_up_down(data, vs)\n",
      "vs = 'KLRGhi-LCMV-12d vs. KLRGlo-LCMV-12d '\n",
      "output_up_down(data, vs)\n"
     ],
     "language": "python",
     "metadata": {},
     "outputs": [],
     "prompt_number": 42
    },
    {
     "cell_type": "code",
     "collapsed": false,
     "input": [
      "# Timecourse\n",
      "vs = 'KLRGlo-LCMV-7d vs. RNA-LCMV-0d '\n",
      "output_up_down(data, vs)\n",
      "vs = 'KLRGhi-LCMV-7d vs. RNA-LCMV-0d '\n",
      "output_up_down(data, vs)\n",
      "vs = 'KLRGlo-LCMV-12d vs. RNA-LCMV-0d '\n",
      "output_up_down(data, vs)\n",
      "vs = 'KLRGhi-LCMV-12d vs. RNA-LCMV-0d '\n",
      "output_up_down(data, vs)\n",
      "vs = 'KLRGlo-LCMV-12d vs. KLRGlo-LCMV-7d '\n",
      "output_up_down(data, vs)\n",
      "vs = 'KLRGhi-LCMV-12d vs. KLRGhi-LCMV-7d '\n",
      "output_up_down(data, vs)\n",
      "vs = 'RNA-LCMV-0d vs. RNA-LCMV-35d-rep2 '\n",
      "output_up_down(data, vs)\n"
     ],
     "language": "python",
     "metadata": {},
     "outputs": [],
     "prompt_number": 43
    },
    {
     "cell_type": "code",
     "collapsed": false,
     "input": [],
     "language": "python",
     "metadata": {},
     "outputs": []
    }
   ],
   "metadata": {}
  }
 ]
}